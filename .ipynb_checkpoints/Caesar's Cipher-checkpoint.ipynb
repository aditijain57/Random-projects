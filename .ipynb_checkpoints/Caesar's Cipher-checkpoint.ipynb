{
 "cells": [
  {
   "cell_type": "code",
   "execution_count": 1,
   "metadata": {},
   "outputs": [
    {
     "name": "stdout",
     "output_type": "stream",
     "text": [
      "Flpwi)lt%imj|qno%H*40\n",
      "Aditi is amazing @#10\n"
     ]
    }
   ],
   "source": [
    "#caesars cipher\n",
    "#randomly generates a 16-digit long key \n",
    "#with individual key digit we move the plain text's letter\n",
    "#with corresponding value to get another letter and so on with the rest\n",
    "import random\n",
    "\n",
    "#random key generated in string form\n",
    "def get_key():\n",
    "    key = random.randint(0,10000000000000000)#16 digit\n",
    "    convert = str(key)\n",
    "    list1= [i for i in convert] \n",
    "    return list1\n",
    "\n",
    "#encryption function\n",
    "def encrypt(key, plain_txt) :\n",
    "    string1 = []\n",
    "    string1[:0] = plain_txt\n",
    "    for i in range(len(string1)) :\n",
    "        s = string1[i]\n",
    "        s = chr(ord(s) + int(key[i % len(key)]))\n",
    "        string1[i] = s\n",
    "    cipher = \"\"\n",
    "    for x in string1:\n",
    "        cipher += x \n",
    "    return cipher\n",
    "\n",
    "#decryption function\n",
    "def decrypt(key, c_txt) :\n",
    "    string1 = []\n",
    "    string1[:0] = c_txt\n",
    "    for i in range(len(string1)) :\n",
    "        s = string1[i]\n",
    "        s = chr(ord(s) - int(key[i % len(key)]))\n",
    "        string1[i] = s\n",
    "    plain = \"\"\n",
    "    for x in string1:\n",
    "        plain += x \n",
    "    return plain    \n",
    "    \n",
    "key = get_key()\n",
    "print(encrypt(key,\"Aditi is amazing @#10\"))\n",
    "print(decrypt(key, encrypt(key,\"Aditi is amazing @#10\")))"
   ]
  },
  {
   "cell_type": "code",
   "execution_count": null,
   "metadata": {},
   "outputs": [],
   "source": []
  }
 ],
 "metadata": {
  "kernelspec": {
   "display_name": "Python 3",
   "language": "python",
   "name": "python3"
  },
  "language_info": {
   "codemirror_mode": {
    "name": "ipython",
    "version": 3
   },
   "file_extension": ".py",
   "mimetype": "text/x-python",
   "name": "python",
   "nbconvert_exporter": "python",
   "pygments_lexer": "ipython3",
   "version": "3.7.6"
  }
 },
 "nbformat": 4,
 "nbformat_minor": 4
}
