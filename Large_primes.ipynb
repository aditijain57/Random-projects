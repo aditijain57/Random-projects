{
 "cells": [
  {
   "cell_type": "code",
   "execution_count": 1,
   "metadata": {},
   "outputs": [
    {
     "name": "stdout",
     "output_type": "stream",
     "text": [
      "1024 bit prime is: \n",
      " 164379407947555251498486733118147993600875215469863751893805649028188078995039187637077267533494714948554963973883110310860527019443871573416648417345264347087321868976850095643697565115677006639912066353407553063510769353187425340326722405223236750751442847405214636050968023936493236348536620140391215562887\n"
     ]
    }
   ],
   "source": [
    "# Large Prime Generation for RSA\n",
    "import random\n",
    "\n",
    "# Pre generated primes\n",
    "first_primes_list = [2, 3, 5, 7, 11, 13, 17, 19, 23, 29,\n",
    "\t\t\t\t\t31, 37, 41, 43, 47, 53, 59, 61, 67,\n",
    "\t\t\t\t\t71, 73, 79, 83, 89, 97, 101, 103,\n",
    "\t\t\t\t\t107, 109, 113, 127, 131, 137, 139,\n",
    "\t\t\t\t\t149, 151, 157, 163, 167, 173, 179,\n",
    "\t\t\t\t\t181, 191, 193, 197, 199, 211, 223,\n",
    "\t\t\t\t\t227, 229, 233, 239, 241, 251, 257,\n",
    "\t\t\t\t\t263, 269, 271, 277, 281, 283, 293,\n",
    "\t\t\t\t\t307, 311, 313, 317, 331, 337, 347, 349]\n",
    "\n",
    "def nBitRandom(n):\n",
    "\treturn random.randrange(2**(n-1)+1, 2**n - 1)\n",
    "\n",
    "def getLowLevelPrime(n):\n",
    "\t'''Generate a prime candidate divisible\n",
    "\tby first primes'''\n",
    "\twhile True:\n",
    "\t\t# Obtain a random number\n",
    "\t\tpc = nBitRandom(n)\n",
    "\n",
    "\t\t# Test divisibility by pre-generated\n",
    "\t\t# primes\n",
    "\t\tfor divisor in first_primes_list:\n",
    "\t\t\tif pc % divisor == 0 and divisor**2 <= pc:\n",
    "\t\t\t\tbreak\n",
    "\t\telse: return pc\n",
    "\n",
    "def isMillerRabinPassed(mrc):\n",
    "\t'''Run 20 iterations of Rabin Miller Primality test'''\n",
    "\tmaxDivisionsByTwo = 0\n",
    "\tec = mrc-1\n",
    "\twhile ec % 2 == 0:\n",
    "\t\tec >>= 1\n",
    "\t\tmaxDivisionsByTwo += 1\n",
    "\tassert(2**maxDivisionsByTwo * ec == mrc-1)\n",
    "\n",
    "\tdef trialComposite(round_tester):\n",
    "\t\tif pow(round_tester, ec, mrc) == 1:\n",
    "\t\t\treturn False\n",
    "\t\tfor i in range(maxDivisionsByTwo):\n",
    "\t\t\tif pow(round_tester, 2**i * ec, mrc) == mrc-1:\n",
    "\t\t\t\treturn False\n",
    "\t\treturn True\n",
    "\n",
    "\t# Set number of trials here\n",
    "\tnumberOfRabinTrials = 20\n",
    "\tfor i in range(numberOfRabinTrials):\n",
    "\t\tround_tester = random.randrange(2, mrc)\n",
    "\t\tif trialComposite(round_tester):\n",
    "\t\t\treturn False\n",
    "\treturn True\n",
    "\n",
    "if __name__ == '__main__':\n",
    "\twhile True:\n",
    "\t\tn = 1024\n",
    "\t\tprime_candidate = getLowLevelPrime(n)\n",
    "\t\tif not isMillerRabinPassed(prime_candidate):\n",
    "\t\t\tcontinue\n",
    "\t\telse:\n",
    "\t\t\tprint(n, \"bit prime is: \\n\", prime_candidate)\n",
    "\t\t\tbreak\n"
   ]
  }
 ],
 "metadata": {
  "kernelspec": {
   "display_name": "Python 3",
   "language": "python",
   "name": "python3"
  },
  "language_info": {
   "codemirror_mode": {
    "name": "ipython",
    "version": 3
   },
   "file_extension": ".py",
   "mimetype": "text/x-python",
   "name": "python",
   "nbconvert_exporter": "python",
   "pygments_lexer": "ipython3",
   "version": "3.7.6"
  }
 },
 "nbformat": 4,
 "nbformat_minor": 4
}
